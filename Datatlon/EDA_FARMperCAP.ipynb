{
 "cells": [
  {
   "cell_type": "markdown",
   "metadata": {},
   "source": [
    "# Calculando farmacias per cápita"
   ]
  },
  {
   "cell_type": "markdown",
   "metadata": {},
   "source": [
    "Obteniendo información de los Data Frames de farmacias afiliadas a la Cofepris"
   ]
  },
  {
   "cell_type": "code",
   "execution_count": 14,
   "metadata": {},
   "outputs": [
    {
     "name": "stdout",
     "output_type": "stream",
     "text": [
      "['Aguascalientes_Pharmacies', 'BajaCalifornia_Pharmacies', 'Campeche_Pharmacies', 'Chiapas_Pharmacies', 'Coahuila_Pharmacies', 'Colima_Pharmacies', 'Durango_Pharmacies', 'Guanajuato_Pharmacies', 'Hidalgo_Pharmacies', 'Michoacan_Pharmacies', 'Morelos_Pharmacies', 'Oaxaca_Pharmacies', 'Puebla_Pharmacies', 'Queretaro_Pharmacies', 'QuintanaRoo_Pharmacies', 'SanLuisPotosi_Pharmacies', 'Sonora_Pharmacies', 'Tabasco_Pharmacies', 'Tamaulipas_Pharmacies', 'Tlaxcala_Pharmacies', 'Yucatan_Pharmacies', 'Zacatecas_Pharmacies']\n"
     ]
    }
   ],
   "source": [
    "import pandas as pd\n",
    "# List of CSV files and corresponding Mexican states\n",
    "csv_files = [\n",
    "    \"Aguascalientes_Pharmacies\",\n",
    "    \"BajaCalifornia_Pharmacies\",\n",
    "    \"Campeche_Pharmacies\",\n",
    "    \"Chiapas_Pharmacies\",\n",
    "    \"Coahuila_Pharmacies\",\n",
    "    \"Colima_Pharmacies\",\n",
    "    \"Durango_Pharmacies\",\n",
    "    \"Guanajuato_Pharmacies\",\n",
    "    \"Hidalgo_Pharmacies\",\n",
    "    \"Michoacan_Pharmacies\",\n",
    "    \"Morelos_Pharmacies\",\n",
    "    \"Oaxaca_Pharmacies\",\n",
    "    \"Puebla_Pharmacies\",\n",
    "    \"Queretaro_Pharmacies\",\n",
    "    \"QuintanaRoo_Pharmacies\",\n",
    "    \"SanLuisPotosi_Pharmacies\",\n",
    "    \"Sonora_Pharmacies\",\n",
    "    \"Tabasco_Pharmacies\",\n",
    "    \"Tamaulipas_Pharmacies\",\n",
    "    \"Tlaxcala_Pharmacies\",\n",
    "    \"Yucatan_Pharmacies\",\n",
    "    \"Zacatecas_Pharmacies\"\n",
    "]\n",
    "print (csv_files)"
   ]
  },
  {
   "cell_type": "markdown",
   "metadata": {},
   "source": [
    "Creando una lista con DFs de cada Edo que analizaremos."
   ]
  },
  {
   "cell_type": "code",
   "execution_count": 15,
   "metadata": {},
   "outputs": [],
   "source": [
    "dataframes = {}\n",
    "\n",
    "for file in csv_files:\n",
    "    file_path = f\"{file}.csv\"\n",
    "    df = pd.read_csv(file_path)\n",
    "    dataframes[file] = df\n"
   ]
  },
  {
   "cell_type": "markdown",
   "metadata": {},
   "source": [
    "Extraer Código Postal"
   ]
  },
  {
   "cell_type": "code",
   "execution_count": 34,
   "metadata": {},
   "outputs": [
    {
     "name": "stdout",
     "output_type": "stream",
     "text": [
      "           CP  farmacias\n",
      "0     20000.0         26\n",
      "1     20180.0         23\n",
      "2     20010.0         16\n",
      "3     20059.0         14\n",
      "4     20270.0          9\n",
      "...       ...        ...\n",
      "2812  98470.0          1\n",
      "2813  98430.0          1\n",
      "2814  98440.0          1\n",
      "2815  98460.0          1\n",
      "2816  98471.0          1\n",
      "\n",
      "[2817 rows x 2 columns]\n"
     ]
    }
   ],
   "source": [
    "counts = [] \n",
    "all_numeric_values = []\n",
    "\n",
    "for file, df in dataframes.items():\n",
    "    fifth_column = df.iloc[:, 4]\n",
    "\n",
    "    numeric_values = pd.to_numeric(fifth_column, errors='coerce').dropna()\n",
    "    \n",
    "    unique_numeric_values = numeric_values.unique().tolist()\n",
    "    \n",
    "    all_numeric_values.extend(unique_numeric_values)\n",
    "    \n",
    "    count = numeric_values.value_counts()\n",
    "    \n",
    "    counts.append(count)\n",
    "\n",
    "df = pd.DataFrame(all_numeric_values, columns=['CP'])\n",
    "\n",
    "df['farmacias'] = pd.concat(counts).reset_index(drop=True)\n",
    "\n",
    "print(df)\n"
   ]
  }
 ],
 "metadata": {
  "kernelspec": {
   "display_name": "myenv",
   "language": "python",
   "name": "python3"
  },
  "language_info": {
   "codemirror_mode": {
    "name": "ipython",
    "version": 3
   },
   "file_extension": ".py",
   "mimetype": "text/x-python",
   "name": "python",
   "nbconvert_exporter": "python",
   "pygments_lexer": "ipython3",
   "version": "3.8.19"
  }
 },
 "nbformat": 4,
 "nbformat_minor": 2
}
